{
 "cells": [
  {
   "cell_type": "code",
   "execution_count": 2,
   "metadata": {
    "scrolled": true
   },
   "outputs": [
    {
     "name": "stdout",
     "output_type": "stream",
     "text": [
      "Requirement already satisfied: selenium in c:\\users\\user\\anaconda\\lib\\site-packages (3.14.0)\n",
      "Requirement already satisfied: urllib3 in c:\\users\\user\\anaconda\\lib\\site-packages (from selenium) (1.22)\n"
     ]
    }
   ],
   "source": [
    "!pip install selenium"
   ]
  },
  {
   "cell_type": "code",
   "execution_count": 24,
   "metadata": {
    "scrolled": true
   },
   "outputs": [],
   "source": [
    "from urllib import request\n",
    "from selenium import webdriver\n",
    "\n",
    "driver = webdriver.Chrome('C://Users/USER/Desktop/chromedriver.exe')"
   ]
  },
  {
   "cell_type": "markdown",
   "metadata": {},
   "source": [
    "# MBC"
   ]
  },
  {
   "cell_type": "code",
   "execution_count": 28,
   "metadata": {
    "scrolled": true
   },
   "outputs": [],
   "source": [
    "driver.get('http://vodmall.imbc.com/genre/genre_sub.aspx?genre=13')\n",
    "script1 = \"__doPostBack(\\'Paging$ctl0\"\n",
    "script2 = \"\\',\\'\\')\""
   ]
  },
  {
   "cell_type": "code",
   "execution_count": 29,
   "metadata": {
    "scrolled": true
   },
   "outputs": [
    {
     "name": "stdout",
     "output_type": "stream",
     "text": [
      "[MBC 창사특집 다큐멘터리 <곤충, 위대한 본능>]\n",
      "브라질 월드컵특집\n",
      "1%의 나눔 행복한 약속\n",
      "100세 시대 전국기행\n",
      "10년 후의 세계\n",
      "1억년 뿔공룡의 비밀\n",
      "가족愛발견\n",
      "갠지스\n",
      "경찰청 사람들\n",
      "교황 방한 특집 MBC 다큐 스페셜\n",
      "그 날\n",
      "그 때를 아십니까\n",
      "기후의 반란\n",
      "남극의 눈물\n",
      "네트워크특선\n",
      "닥터스\n",
      "따뜻한 세상\n",
      "미래인간AI\n",
      "바람의 말\n",
      "부부일기\n",
      "북극의 눈물\n",
      "사과나무\n",
      "사람 사진으로 쓰는 이야기\n",
      "설특집 다큐멘터리 에베레스트 휴먼원정대\n",
      "성공의 비밀\n",
      "세계를 뒤흔든 순간\n",
      "세상기록 48\n",
      "아! 에베레스트\n",
      "아프리카의 눈물\n",
      "안녕?! 오케스트라\n",
      "최윤영의 세계다큐기행\n",
      "카레이스키 150년만의 귀향\n",
      "황하\n",
      "휴먼다큐 사랑\n",
      "희로애락\n",
      "희망 릴레이 아름다운 세상\n",
      "희망채널 더불어 좋은 세상\n",
      "DMZ, 더 와일드\n",
      "MBC 스페셜\n",
      "MBC 창사특집 위대한 한끼\n",
      "MBC 창사특집 천개의 얼굴, 화장\n",
      "MBC 창사특집다큐멘터리 - 생존\n",
      "MBC-CCTV 공동제작 AD2100 기후의 반격\n",
      "v 건강을 다스리는 왕의 밥상\n",
      "v 건강프로젝트 9988에 도전한다\n"
     ]
    }
   ],
   "source": [
    "driver.execute_script('sort(2)')\n",
    "driver.execute_script('ViewMode(\\'view_text\\');')\n",
    "\n",
    "page = -1\n",
    "while page <= 4:\n",
    "    names = driver.find_elements_by_css_selector('.c_title > a')\n",
    "    for name in names:\n",
    "        print(name.text)\n",
    "    page = page + 1\n",
    "    if page == 1:\n",
    "        page = page + 1\n",
    "    driver.execute_script(script1+str(page)+script2)"
   ]
  },
  {
   "cell_type": "code",
   "execution_count": 12,
   "metadata": {
    "scrolled": true
   },
   "outputs": [],
   "source": [
    "from selenium.webdriver.common.by import By\n",
    "from selenium.webdriver.support.ui import WebDriverWait\n",
    "from selenium.webdriver.support import expected_conditions as EC"
   ]
  },
  {
   "cell_type": "code",
   "execution_count": null,
   "metadata": {
    "scrolled": true
   },
   "outputs": [],
   "source": []
  }
 ],
 "metadata": {
  "kernelspec": {
   "display_name": "Python 3",
   "language": "python",
   "name": "python3"
  },
  "language_info": {
   "codemirror_mode": {
    "name": "ipython",
    "version": 3
   },
   "file_extension": ".py",
   "mimetype": "text/x-python",
   "name": "python",
   "nbconvert_exporter": "python",
   "pygments_lexer": "ipython3",
   "version": "3.6.5"
  }
 },
 "nbformat": 4,
 "nbformat_minor": 2
}
