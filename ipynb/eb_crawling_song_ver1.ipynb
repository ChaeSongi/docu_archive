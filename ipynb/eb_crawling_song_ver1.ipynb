{
 "cells": [
  {
   "cell_type": "markdown",
   "metadata": {},
   "source": [
    "# 크롤링\n",
    "selenium과 beautifulsoup을 통해 *데이터*를 뽑아보자!"
   ]
  },
  {
   "cell_type": "code",
   "execution_count": null,
   "metadata": {},
   "outputs": [],
   "source": [
    "!pip install selenium # 셀레니움 설치"
   ]
  },
  {
   "cell_type": "code",
   "execution_count": null,
   "metadata": {},
   "outputs": [],
   "source": [
    "from urllib import request\n",
    "from selenium import webdriver\n",
    "\n",
    "driver = webdriver.Chrome('C:/chromedriver_win32/chromedriver.exe')"
   ]
  },
  {
   "cell_type": "markdown",
   "metadata": {},
   "source": [
    "# selenium을 이용해 html 뽑기"
   ]
  },
  {
   "cell_type": "markdown",
   "metadata": {},
   "source": [
    "**driver.get('url')** # url 은 들어가고 싶은 사이트의 주소  \n",
    "**driver.find_element_by_xpath('').click()** # 사이트 내에서 클릭해서 들어가야할 때 쓰는 코드 # html에서 마우스 왼쪽을 눌러 copy-xpath로 가져오기  "
   ]
  },
  {
   "cell_type": "code",
   "execution_count": null,
   "metadata": {},
   "outputs": [],
   "source": [
    "# 방송사들어가기\n",
    "url=driver.get('http://www.ebs.co.kr/tv/program')"
   ]
  },
  {
   "cell_type": "code",
   "execution_count": null,
   "metadata": {},
   "outputs": [],
   "source": [
    "# 분류 버튼 클릭하기\n",
    "driver.find_element_by_xpath('//*[@id=\"Contents\"]/div/div/div[2]/div[2]/ul[1]/li[2]').click()"
   ]
  },
  {
   "cell_type": "code",
   "execution_count": null,
   "metadata": {},
   "outputs": [],
   "source": [
    "# 원하는 소분류(=다큐멘터리) 클릭하기()\n",
    "driver.find_element_by_xpath('//*[@id=\"Contents\"]/div/div/div[3]/ul/li[2]/ul/li[2]/label').click()"
   ]
  },
  {
   "cell_type": "code",
   "execution_count": null,
   "metadata": {},
   "outputs": [],
   "source": [
    "# 리스트 클릭하기\n",
    "driver.find_element_by_xpath('//*[@id=\"Contents\"]/div/div/div[2]/div[2]/ul[2]/li[2]/a[2]').click()"
   ]
  },
  {
   "cell_type": "code",
   "execution_count": null,
   "metadata": {
    "scrolled": true
   },
   "outputs": [],
   "source": [
    "# 원하는 소분류클릭하기(=vod)\n",
    "driver.find_element_by_xpath('//*[@id=\"tabVod\"]').click()"
   ]
  },
  {
   "cell_type": "markdown",
   "metadata": {},
   "source": [
    "# 페이지 내리기"
   ]
  },
  {
   "cell_type": "code",
   "execution_count": null,
   "metadata": {},
   "outputs": [],
   "source": [
    "SCROLL_PAUSE_TIME = 0.1\n",
    "import time \n",
    "# Get scroll height\n",
    "last_height = driver.execute_script(\"return document.body.scrollHeight\")\n",
    "\n",
    "while True:\n",
    "    # Scroll down to bottom\n",
    "    driver.execute_script(\"window.scrollTo(0, document.body.scrollHeight);\")\n",
    "\n",
    "    # Wait to load page\n",
    "    time.sleep(SCROLL_PAUSE_TIME)\n",
    "\n",
    "    # Calculate new scroll height and compare with last scroll height\n",
    "    new_height = driver.execute_script(\"return document.body.scrollHeight\")\n",
    "    if new_height == last_height:\n",
    "        continue\n",
    "    last_height = new_height\n",
    "break"
   ]
  },
  {
   "cell_type": "markdown",
   "metadata": {},
   "source": [
    "### 클릭은 셀레니움으로 했고\n",
    "## 텍스트 끌어오는 것은 beautifulsoup으로 가져온다.\n",
    "가져와야하는 일\n",
    "* link\n",
    "* title\n",
    "* episode\n",
    "* date\n",
    "* synopsis"
   ]
  },
  {
   "cell_type": "code",
   "execution_count": null,
   "metadata": {},
   "outputs": [],
   "source": [
    "from bs4 import BeautifulSoup\n",
    "\n",
    "html = driver.page_source # 현재 페이지 주소를 반환 (중.요!!)\n",
    "soup = BeautifulSoup(html,'html.parser')"
   ]
  },
  {
   "cell_type": "markdown",
   "metadata": {},
   "source": [
    "# 링크가져오기"
   ]
  },
  {
   "cell_type": "code",
   "execution_count": null,
   "metadata": {},
   "outputs": [],
   "source": [
    "# 범위를 주고 test해보기\n",
    "i = 1\n",
    "for i in range(1,10):\n",
    "    links = driver.find_elements_by_css_selector('#layerProgram_List_vod > li:nth-child('+str(i)+') > div > strong > a')\n",
    "    urls = [ i.get_attribute('href') for i in links]\n",
    "#    print(urls)"
   ]
  },
  {
   "cell_type": "code",
   "execution_count": null,
   "metadata": {},
   "outputs": [],
   "source": [
    "# 본 실습\n",
    "page = 1\n",
    "all_links = []\n",
    "for page in range(1,12500):\n",
    "    links = driver.find_elements_by_css_selector('#layerProgram_List_vod > li:nth-child('+str(page)+') > div > strong > a')\n",
    "    for i in links:\n",
    "        urls=i.get_attribute('href')\n",
    "    page = page +1\n",
    "#     print(urls)\n",
    "    all_links.append(urls)\n",
    "# all_links\n",
    "# 뽑은 데이터는 리스트 형식으로 만들어주자."
   ]
  },
  {
   "cell_type": "code",
   "execution_count": null,
   "metadata": {},
   "outputs": [],
   "source": [
    "import pandas as pd\n",
    "\n",
    "data = pd.DataFrame(\n",
    "    {'link': all_links },\n",
    "    columns={'link'})\n",
    "data"
   ]
  },
  {
   "cell_type": "code",
   "execution_count": null,
   "metadata": {},
   "outputs": [],
   "source": [
    "data.to_csv('links.csv',sep=',', encoding='utf-8')"
   ]
  },
  {
   "cell_type": "markdown",
   "metadata": {},
   "source": [
    "# vod title만 가져오기"
   ]
  },
  {
   "cell_type": "code",
   "execution_count": null,
   "metadata": {},
   "outputs": [],
   "source": [
    "list_all = soup.find_all('strong','mainTit')\n",
    "#list_all"
   ]
  },
  {
   "cell_type": "code",
   "execution_count": null,
   "metadata": {},
   "outputs": [],
   "source": [
    "send_list = [list_all[n].find('a').get_text() for n in range(0, len(list_all))] # a가 있는 텍스트 모두 가져오기 = vod title\n",
    "#send_list"
   ]
  },
  {
   "cell_type": "code",
   "execution_count": null,
   "metadata": {},
   "outputs": [],
   "source": [
    "len(send_list) # 길이확인"
   ]
  },
  {
   "cell_type": "code",
   "execution_count": null,
   "metadata": {},
   "outputs": [],
   "source": [
    "import pandas as pd\n",
    "\n",
    "data2 = pd.DataFrame(\n",
    "    {'title': send_list},\n",
    "    columns={'title'})\n",
    "data2.head()"
   ]
  },
  {
   "cell_type": "code",
   "execution_count": null,
   "metadata": {},
   "outputs": [],
   "source": [
    "data2.to_csv('title.csv',sep=',', encoding='utf-8')"
   ]
  },
  {
   "cell_type": "markdown",
   "metadata": {},
   "source": [
    "# episode 가져오기"
   ]
  },
  {
   "cell_type": "code",
   "execution_count": null,
   "metadata": {},
   "outputs": [],
   "source": [
    "name_all = soup.find_all('span','tbl_td col3')\n",
    "#name_all"
   ]
  },
  {
   "cell_type": "code",
   "execution_count": null,
   "metadata": {},
   "outputs": [],
   "source": [
    "len(name_all) # 길이확인"
   ]
  },
  {
   "cell_type": "code",
   "execution_count": null,
   "metadata": {},
   "outputs": [],
   "source": [
    "# name_list = [name_all[n].find('a').get_text() for n in range(0, len(name_all))]\n",
    "# name_list"
   ]
  },
  {
   "cell_type": "code",
   "execution_count": null,
   "metadata": {},
   "outputs": [],
   "source": [
    "titles=[]\n",
    "for e in name_all:\n",
    "    titles.append(e.text)\n",
    "#titles"
   ]
  },
  {
   "cell_type": "code",
   "execution_count": null,
   "metadata": {},
   "outputs": [],
   "source": [
    "for i in titles:\n",
    "#    print(i.strip())\n",
    "# 공백제거"
   ]
  },
  {
   "cell_type": "code",
   "execution_count": null,
   "metadata": {},
   "outputs": [],
   "source": [
    "tit=[]\n",
    "for i in titles:\n",
    "    tit.append(i.strip())\n",
    "#tit"
   ]
  },
  {
   "cell_type": "code",
   "execution_count": null,
   "metadata": {},
   "outputs": [],
   "source": [
    "import pandas as pd\n",
    "\n",
    "data3 = pd.DataFrame(\n",
    "    {'title':tit,'episode': send_list},\n",
    "    columns={'title','episode'})\n",
    "#data3.tail()"
   ]
  },
  {
   "cell_type": "code",
   "execution_count": null,
   "metadata": {},
   "outputs": [],
   "source": [
    "data3.to_csv('epi_title.csv',sep=',', encoding='utf-8')"
   ]
  },
  {
   "cell_type": "markdown",
   "metadata": {},
   "source": [
    "# 날짜 가져오기"
   ]
  },
  {
   "cell_type": "code",
   "execution_count": null,
   "metadata": {},
   "outputs": [],
   "source": [
    "day_all = soup.find_all('span','tbl_td col2')\n",
    "#day_all"
   ]
  },
  {
   "cell_type": "code",
   "execution_count": null,
   "metadata": {},
   "outputs": [],
   "source": [
    "days=[]\n",
    "for d in day_all:\n",
    "    days.append(d.text)\n",
    "#days"
   ]
  },
  {
   "cell_type": "code",
   "execution_count": null,
   "metadata": {},
   "outputs": [],
   "source": [
    "import pandas as pd\n",
    "\n",
    "data4 = pd.DataFrame(\n",
    "    {'title':tit,'date':days,'episode': send_list},\n",
    "    columns={'title','date','episode'})\n",
    "#data4[:50]"
   ]
  },
  {
   "cell_type": "code",
   "execution_count": null,
   "metadata": {},
   "outputs": [],
   "source": [
    "data4.to_csv('date_ti_epi_link.csv',sep=',', encoding='utf-8')"
   ]
  },
  {
   "cell_type": "markdown",
   "metadata": {},
   "source": [
    "## 뽑아온 데이터를 한 눈에 보자"
   ]
  },
  {
   "cell_type": "code",
   "execution_count": null,
   "metadata": {},
   "outputs": [],
   "source": [
    "import pandas as pd"
   ]
  },
  {
   "cell_type": "code",
   "execution_count": null,
   "metadata": {},
   "outputs": [],
   "source": [
    "df = pd.read_csv('result.csv', encoding='cp949')\n",
    "df.shape\n",
    "#df.head()"
   ]
  },
  {
   "cell_type": "markdown",
   "metadata": {},
   "source": [
    "# synopsis 뽑기\n",
    "시놉시스를 뽑기 위해서는 링크를 가져와서 자동화해야한다."
   ]
  },
  {
   "cell_type": "code",
   "execution_count": null,
   "metadata": {},
   "outputs": [],
   "source": [
    "df['링크'][0] # 첫 번째 링크 확인"
   ]
  },
  {
   "cell_type": "code",
   "execution_count": null,
   "metadata": {},
   "outputs": [],
   "source": [
    "from urllib import request\n",
    "from selenium import webdriver\n",
    "\n",
    "driver = webdriver.Chrome('C:/chromedriver_win32/chromedriver.exe')"
   ]
  },
  {
   "cell_type": "code",
   "execution_count": null,
   "metadata": {},
   "outputs": [],
   "source": [
    "from bs4 import BeautifulSoup\n",
    "\n",
    "html = driver.page_source # 현재 페이지 주소를 반환 (중.요!!)\n",
    "soup = BeautifulSoup(html,'html.parser')"
   ]
  },
  {
   "cell_type": "code",
   "execution_count": null,
   "metadata": {},
   "outputs": [],
   "source": [
    "import time\n",
    "all_synopsis=[]\n",
    "for i in range(0,20): # 범위를 지정해서 조금씩 뽑아낸다.\n",
    "    i=i+1\n",
    "#     print(df['링크'][i])\n",
    "    driver.get(df['링크'][i])\n",
    "    time.sleep(1)\n",
    "    html = driver.page_source # 현재 페이지 주소를 반환 (중.요!!)\n",
    "    soup = BeautifulSoup(html,'html.parser')\n",
    "    for i in soup.select('p.detail_story'):\n",
    "        synopsis=i.text\n",
    "    all_synopsis.append(synopsis)\n",
    "all_synopsis\n",
    "# 자동화 개선 필요함"
   ]
  },
  {
   "cell_type": "code",
   "execution_count": null,
   "metadata": {},
   "outputs": [],
   "source": [
    "import pandas as pd\n",
    "\n",
    "test = pd.DataFrame(\n",
    "    {'synopsis': all_synopsis },\n",
    "    columns={'synopsis'})\n",
    "test.tail()"
   ]
  },
  {
   "cell_type": "code",
   "execution_count": null,
   "metadata": {},
   "outputs": [],
   "source": [
    "test.to_csv('synop_test.csv',sep=',', encoding='utf-8') # 저장하기"
   ]
  },
  {
   "cell_type": "code",
   "execution_count": null,
   "metadata": {},
   "outputs": [],
   "source": [
    "df=pd.read_csv('synop_test.csv',encoding='cp949') # 불러오기\n",
    "df.head()"
   ]
  },
  {
   "cell_type": "markdown",
   "metadata": {},
   "source": [
    "### 시놉시스 전처리\n",
    "시놉시스 끝에 <펼쳐보기>라고 써져있는 text 제거  \n",
    "공백 제거  "
   ]
  },
  {
   "cell_type": "code",
   "execution_count": null,
   "metadata": {},
   "outputs": [],
   "source": [
    "df=df.replace(\"펼쳐보기\",\"\") \n",
    "df.head()"
   ]
  },
  {
   "cell_type": "code",
   "execution_count": null,
   "metadata": {},
   "outputs": [],
   "source": [
    "synop=df['시놉시스']\n",
    "\n",
    "synop\n",
    "sn=[]\n",
    "for i in synop:\n",
    "    sn.append(i.strip())\n",
    "sn"
   ]
  },
  {
   "cell_type": "code",
   "execution_count": null,
   "metadata": {},
   "outputs": [],
   "source": [
    "import pandas as pd\n",
    "\n",
    "data6 = pd.DataFrame(\n",
    "    { 'synop': sn},\n",
    "    columns={'synop'})\n",
    "data6.tail()"
   ]
  },
  {
   "cell_type": "code",
   "execution_count": null,
   "metadata": {},
   "outputs": [],
   "source": []
  },
  {
   "cell_type": "code",
   "execution_count": null,
   "metadata": {},
   "outputs": [],
   "source": []
  },
  {
   "cell_type": "markdown",
   "metadata": {},
   "source": [
    "#  확인하기"
   ]
  },
  {
   "cell_type": "code",
   "execution_count": null,
   "metadata": {},
   "outputs": [],
   "source": [
    "df['제목'].value_counts()"
   ]
  },
  {
   "cell_type": "markdown",
   "metadata": {},
   "source": [
    "# 느낀점\n",
    "크롤링 시간이 너무 오래걸림  \n",
    "위에서 아래까지 다 가져오고 업데이트 된 부분은 수기로 적어주는게 더 빠를 듯  \n",
    "한 번 크롤링 잘해서 나중에 고생을 덜 하자.  "
   ]
  },
  {
   "cell_type": "code",
   "execution_count": null,
   "metadata": {},
   "outputs": [],
   "source": []
  }
 ],
 "metadata": {
  "kernelspec": {
   "display_name": "Python 3",
   "language": "python",
   "name": "python3"
  },
  "language_info": {
   "codemirror_mode": {
    "name": "ipython",
    "version": 3
   },
   "file_extension": ".py",
   "mimetype": "text/x-python",
   "name": "python",
   "nbconvert_exporter": "python",
   "pygments_lexer": "ipython3",
   "version": "3.6.3"
  }
 },
 "nbformat": 4,
 "nbformat_minor": 2
}
