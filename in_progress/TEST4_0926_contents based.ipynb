{
 "cells": [
  {
   "cell_type": "code",
   "execution_count": 3,
   "metadata": {},
   "outputs": [],
   "source": [
    "import pandas as pd\n",
    "metadata = pd.read_csv('sbsspecial.csv', encoding='cp949')"
   ]
  },
  {
   "cell_type": "code",
   "execution_count": 4,
   "metadata": {},
   "outputs": [
    {
     "data": {
      "text/html": [
       "<div>\n",
       "<style scoped>\n",
       "    .dataframe tbody tr th:only-of-type {\n",
       "        vertical-align: middle;\n",
       "    }\n",
       "\n",
       "    .dataframe tbody tr th {\n",
       "        vertical-align: top;\n",
       "    }\n",
       "\n",
       "    .dataframe thead th {\n",
       "        text-align: right;\n",
       "    }\n",
       "</style>\n",
       "<table border=\"1\" class=\"dataframe\">\n",
       "  <thead>\n",
       "    <tr style=\"text-align: right;\">\n",
       "      <th></th>\n",
       "      <th>Unnamed: 0</th>\n",
       "      <th>tv</th>\n",
       "      <th>title</th>\n",
       "      <th>episode</th>\n",
       "      <th>date</th>\n",
       "      <th>link</th>\n",
       "      <th>synopsys</th>\n",
       "    </tr>\n",
       "  </thead>\n",
       "  <tbody>\n",
       "    <tr>\n",
       "      <th>0</th>\n",
       "      <td>0</td>\n",
       "      <td>SBS</td>\n",
       "      <td>SBS 스페셜</td>\n",
       "      <td>복흥 O.B.A 소녀들은 자란다</td>\n",
       "      <td>2018.09.16(일)</td>\n",
       "      <td>http://programs.sbs.co.kr/culture/sbsspecial/v...</td>\n",
       "      <td>[ 복흥 O.B.A소녀들은 자란다 사춘기 자녀를 둔 부모들에게     아이를 키우는...</td>\n",
       "    </tr>\n",
       "    <tr>\n",
       "      <th>1</th>\n",
       "      <td>1</td>\n",
       "      <td>SBS</td>\n",
       "      <td>SBS 스페셜</td>\n",
       "      <td>자영업 공화국의 눈물</td>\n",
       "      <td>2018.09.09(일)</td>\n",
       "      <td>http://programs.sbs.co.kr/culture/sbsspecial/v...</td>\n",
       "      <td>[ 자영업 공화국의 눈물 대한민국의 자영업자 570만 명.경제협력개발기구(OECD)...</td>\n",
       "    </tr>\n",
       "    <tr>\n",
       "      <th>2</th>\n",
       "      <td>2</td>\n",
       "      <td>SBS</td>\n",
       "      <td>SBS 스페셜</td>\n",
       "      <td>다시 쓰는 불면일기 잠은 죽어서 자나?!</td>\n",
       "      <td>2018.09.02(일)</td>\n",
       "      <td>http://programs.sbs.co.kr/culture/sbsspecial/v...</td>\n",
       "      <td>[ ??다시 쓰는 불면일기잠은 죽어서 자나?!잠을 팔고 잠을 사는 사회       ...</td>\n",
       "    </tr>\n",
       "  </tbody>\n",
       "</table>\n",
       "</div>"
      ],
      "text/plain": [
       "   Unnamed: 0   tv    title                 episode           date  \\\n",
       "0           0  SBS  SBS 스페셜       복흥 O.B.A 소녀들은 자란다  2018.09.16(일)   \n",
       "1           1  SBS  SBS 스페셜             자영업 공화국의 눈물  2018.09.09(일)   \n",
       "2           2  SBS  SBS 스페셜  다시 쓰는 불면일기 잠은 죽어서 자나?!  2018.09.02(일)   \n",
       "\n",
       "                                                link  \\\n",
       "0  http://programs.sbs.co.kr/culture/sbsspecial/v...   \n",
       "1  http://programs.sbs.co.kr/culture/sbsspecial/v...   \n",
       "2  http://programs.sbs.co.kr/culture/sbsspecial/v...   \n",
       "\n",
       "                                            synopsys  \n",
       "0  [ 복흥 O.B.A소녀들은 자란다 사춘기 자녀를 둔 부모들에게     아이를 키우는...  \n",
       "1  [ 자영업 공화국의 눈물 대한민국의 자영업자 570만 명.경제협력개발기구(OECD)...  \n",
       "2  [ ??다시 쓰는 불면일기잠은 죽어서 자나?!잠을 팔고 잠을 사는 사회       ...  "
      ]
     },
     "execution_count": 4,
     "metadata": {},
     "output_type": "execute_result"
    }
   ],
   "source": [
    "metadata.head(3)"
   ]
  },
  {
   "cell_type": "code",
   "execution_count": 27,
   "metadata": {},
   "outputs": [
    {
     "data": {
      "text/plain": [
       "0         복흥 O.B.A 소녀들은 자란다\n",
       "1               자영업 공화국의 눈물\n",
       "2    다시 쓰는 불면일기 잠은 죽어서 자나?!\n",
       "3                아이와 여행하는 법\n",
       "4                 영미네 작은 식탁\n",
       "Name: episode, dtype: object"
      ]
     },
     "execution_count": 27,
     "metadata": {},
     "output_type": "execute_result"
    }
   ],
   "source": [
    "metadata['episode'].head()"
   ]
  },
  {
   "cell_type": "code",
   "execution_count": 6,
   "metadata": {
    "scrolled": true
   },
   "outputs": [
    {
     "data": {
      "text/plain": [
       "0    [ 복흥 O.B.A소녀들은 자란다 사춘기 자녀를 둔 부모들에게     아이를 키우는...\n",
       "1    [ 자영업 공화국의 눈물 대한민국의 자영업자 570만 명.경제협력개발기구(OECD)...\n",
       "2    [ ??다시 쓰는 불면일기잠은 죽어서 자나?!잠을 팔고 잠을 사는 사회       ...\n",
       "3    [ 아이와 여행하는 법▶ 여행에도 방법이 있다?!?나는 아이와 몇 점짜리 여행을 하...\n",
       "4    [ 영미네 작은 식탁방송일시: 2018년 8월 5일(일) 밤 11시 5분연출: 황성...\n",
       "Name: synopsys, dtype: object"
      ]
     },
     "execution_count": 6,
     "metadata": {},
     "output_type": "execute_result"
    }
   ],
   "source": [
    "metadata['synopsys'].head()"
   ]
  },
  {
   "cell_type": "markdown",
   "metadata": {},
   "source": [
    "### TF-IDF"
   ]
  },
  {
   "cell_type": "code",
   "execution_count": 7,
   "metadata": {},
   "outputs": [],
   "source": [
    "from sklearn.feature_extraction.text import TfidfVectorizer\n",
    "tfidf = TfidfVectorizer(stop_words='ko')\n",
    "metadata['synopsys'] = metadata['synopsys'].fillna('')"
   ]
  },
  {
   "cell_type": "code",
   "execution_count": 18,
   "metadata": {},
   "outputs": [],
   "source": [
    "#tfidf_matrix = tfidf.fit_transform(metadata['synopsys'])\n",
    "\n",
    "tfidf_vectorizer = TfidfVectorizer(min_df=2)\n",
    "tfidf_matrix = tfidf_vectorizer.fit_transform(metadata['synopsys'])"
   ]
  },
  {
   "cell_type": "code",
   "execution_count": 16,
   "metadata": {},
   "outputs": [
    {
     "data": {
      "text/plain": [
       "(501, 12228)"
      ]
     },
     "execution_count": 16,
     "metadata": {},
     "output_type": "execute_result"
    }
   ],
   "source": [
    "tfidf_matrix.shape"
   ]
  },
  {
   "cell_type": "markdown",
   "metadata": {},
   "source": [
    "### 코사인 유사성(코사인 각이 유사도 결정)"
   ]
  },
  {
   "cell_type": "markdown",
   "metadata": {},
   "source": [
    "from sklearn.metrics.pairwise import linear_kernel\n",
    "\n",
    "#코사인 유사도 매트릭스 계산\n",
    "cosine_sim = linear_kernel(tfidf_matrix, tfidf_matrix)"
   ]
  },
  {
   "cell_type": "markdown",
   "metadata": {},
   "source": [
    "### 에피소드 제목과 시놉시스 역 매핑? "
   ]
  },
  {
   "cell_type": "code",
   "execution_count": 21,
   "metadata": {},
   "outputs": [],
   "source": [
    "indices = pd.Series(metadata.index, index=metadata['episode'])"
   ]
  },
  {
   "cell_type": "code",
   "execution_count": 26,
   "metadata": {},
   "outputs": [],
   "source": [
    "#입력은 에피소드 제목 출력은 비슷한 에피소드\n",
    "\n",
    "def get_recommendations(episode, cosine_sim=cosine_sim):\n",
    "    #제목과 일치하는 에피소드 인덱스 가지고옴\n",
    "    idx = indices[episode]\n",
    "    \n",
    "    sim_scores = list(enumerate(cosine_sim[idx]))\n",
    "    \n",
    "    sim_scores = sorted(sim_scores, key=lambda x: x[1], reverse=True)\n",
    "    \n",
    "    #비슷한 에피소드 상위 10개\n",
    "    sim_scores = sim_scores[1:11]\n",
    "    \n",
    "    # indices\n",
    "    epi_indices = [i[0] for i in sim_scores]\n",
    "    \n",
    "    return metadata['episode'].iloc[epi_indices]"
   ]
  },
  {
   "cell_type": "code",
   "execution_count": 34,
   "metadata": {},
   "outputs": [
    {
     "data": {
      "text/plain": [
       "66                    중년의 사생활, 갱년기\n",
       "43                          헌법의 탄생\n",
       "68               금연전쟁 - 내 아이를 부탁해 \n",
       "103    암(癌) 전문의의 선택 진료실에서 못다 한 이야기\n",
       "234                      노엘의 귀향 2부\n",
       "93             설탕전쟁 - 당(糖)하고 계십니까?\n",
       "223                 동물, 행복의 조건 1부 \n",
       "67              세월의 가치를 더하다 - 세운상가\n",
       "230                   -화무십일홍 권불십년-\n",
       "0                복흥 O.B.A 소녀들은 자란다\n",
       "Name: episode, dtype: object"
      ]
     },
     "execution_count": 34,
     "metadata": {},
     "output_type": "execute_result"
    }
   ],
   "source": [
    "get_recommendations('아이와 여행하는 법')"
   ]
  },
  {
   "cell_type": "code",
   "execution_count": null,
   "metadata": {},
   "outputs": [],
   "source": []
  },
  {
   "cell_type": "code",
   "execution_count": null,
   "metadata": {},
   "outputs": [],
   "source": []
  },
  {
   "cell_type": "code",
   "execution_count": 37,
   "metadata": {},
   "outputs": [],
   "source": []
  },
  {
   "cell_type": "code",
   "execution_count": null,
   "metadata": {},
   "outputs": [],
   "source": []
  },
  {
   "cell_type": "code",
   "execution_count": null,
   "metadata": {},
   "outputs": [],
   "source": []
  },
  {
   "cell_type": "code",
   "execution_count": null,
   "metadata": {},
   "outputs": [],
   "source": []
  },
  {
   "cell_type": "code",
   "execution_count": null,
   "metadata": {},
   "outputs": [],
   "source": []
  },
  {
   "cell_type": "code",
   "execution_count": null,
   "metadata": {},
   "outputs": [],
   "source": []
  },
  {
   "cell_type": "code",
   "execution_count": null,
   "metadata": {},
   "outputs": [],
   "source": []
  },
  {
   "cell_type": "code",
   "execution_count": null,
   "metadata": {},
   "outputs": [],
   "source": []
  },
  {
   "cell_type": "code",
   "execution_count": null,
   "metadata": {},
   "outputs": [],
   "source": [
    "metad"
   ]
  }
 ],
 "metadata": {
  "kernelspec": {
   "display_name": "Python 3",
   "language": "python",
   "name": "python3"
  },
  "language_info": {
   "codemirror_mode": {
    "name": "ipython",
    "version": 3
   },
   "file_extension": ".py",
   "mimetype": "text/x-python",
   "name": "python",
   "nbconvert_exporter": "python",
   "pygments_lexer": "ipython3",
   "version": "3.6.5"
  }
 },
 "nbformat": 4,
 "nbformat_minor": 2
}
